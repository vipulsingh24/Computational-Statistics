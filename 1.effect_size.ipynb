{
 "cells": [
  {
   "cell_type": "code",
   "execution_count": 17,
   "metadata": {},
   "outputs": [],
   "source": [
    "from __future__ import print_function, division\n",
    "import numpy as np\n",
    "import scipy.stats\n",
    "import matplotlib.pyplot as plt\n",
    "\n",
    "from ipywidgets import interact, interactive, fixed\n",
    "import ipywidgets as widgets\n",
    "\n",
    "# some nice colors from http://colorbrewer2.org/\n",
    "COLOR1 = '#7fc97f'\n",
    "COLOR2 = '#beaed4'\n",
    "COLOR3 = '#fdc086'\n",
    "COLOR4 = '#ffff99'\n",
    "COLOR5 = '#386cb0'\n",
    "\n",
    "%matplotlib inline"
   ]
  },
  {
   "cell_type": "code",
   "execution_count": 3,
   "metadata": {
    "collapsed": true
   },
   "outputs": [],
   "source": [
    "np.random.seed(17)"
   ]
  },
  {
   "cell_type": "markdown",
   "metadata": {},
   "source": [
    "Using scipy.stats.norm to represent the distribution"
   ]
  },
  {
   "cell_type": "code",
   "execution_count": 9,
   "metadata": {
    "collapsed": true
   },
   "outputs": [],
   "source": [
    "mu1, sig1 = 178, 7.7\n",
    "male_height = scipy.stats.norm(mu1, sig1)"
   ]
  },
  {
   "cell_type": "code",
   "execution_count": 11,
   "metadata": {},
   "outputs": [],
   "source": [
    "mu2, sig2 = 163, 7.3\n",
    "female_height = scipy.stats.norm(mu2, sig2)"
   ]
  },
  {
   "cell_type": "markdown",
   "metadata": {},
   "source": [
    "The following function evaluates the normal (Gaussian) probability density function (PDF) within 4 standard deviations of the mean. \n",
    "<br />It takes rv object and returns a pair of NumPy arrays."
   ]
  },
  {
   "cell_type": "code",
   "execution_count": 12,
   "metadata": {
    "collapsed": true
   },
   "outputs": [],
   "source": [
    "def eval_pdf(rv, num=4):\n",
    "    mean, std = rv.mean(), rv.std()\n",
    "    xs = np.linspace(mean-num*std, mean+num*std)\n",
    "    ys = rv.pdf(xs)\n",
    "    return xs, ys"
   ]
  },
  {
   "cell_type": "markdown",
   "metadata": {},
   "source": [
    "So, the two distribution looks like"
   ]
  },
  {
   "cell_type": "code",
   "execution_count": 33,
   "metadata": {},
   "outputs": [
    {
     "data": {
      "text/plain": [
       "Text(0.5,0,'Height(cm)')"
      ]
     },
     "execution_count": 33,
     "metadata": {},
     "output_type": "execute_result"
    },
    {
     "data": {
      "image/png": "[encoded data removed]",
      "text/plain": [
       "<matplotlib.figure.Figure at 0x7f171c0589e8>"
      ]
     },
     "metadata": {},
     "output_type": "display_data"
    }
   ],
   "source": [
    "xs, ys = eval_pdf(male_height)\n",
    "plt.plot(xs, ys, label='Male', linewidth =4, color=COLOR2)\n",
    "\n",
    "xs, ys = eval_pdf(female_height)\n",
    "plt.plot(xs, ys, label='Female', linewidth=4, color=COLOR3)\n",
    "plt.legend(('Male_Height', 'Female_Height'), loc='upper right')\n",
    "plt.xlabel('Height(cm)')"
   ]
  },
  {
   "cell_type": "markdown",
   "metadata": {},
   "source": [
    "Use rvs to generate random samples from the population distributions. Note that these are totally random, totally representative samples, with no measurement error!"
   ]
  },
  {
   "cell_type": "code",
   "execution_count": 34,
   "metadata": {
    "collapsed": true
   },
   "outputs": [],
   "source": [
    "male_sample = male_height.rvs(100)\n",
    "female_sample = female_height.rvs(100)"
   ]
  },
  {
   "cell_type": "code",
   "execution_count": 35,
   "metadata": {},
   "outputs": [
    {
     "data": {
      "text/plain": [
       "(178.10638301598465, 7.116965990374081)"
      ]
     },
     "execution_count": 35,
     "metadata": {},
     "output_type": "execute_result"
    }
   ],
   "source": [
    "mean1, std1 = male_sample.mean(), male_sample.std()\n",
    "mean1, std1"
   ]
  },
  {
   "cell_type": "code",
   "execution_count": 36,
   "metadata": {},
   "outputs": [
    {
     "data": {
      "text/plain": [
       "(163.38460854518215, 7.234877318196113)"
      ]
     },
     "execution_count": 36,
     "metadata": {},
     "output_type": "execute_result"
    }
   ],
   "source": [
    "mean2, std2 = female_sample.mean(), female_sample.std()\n",
    "mean2, std2"
   ]
  },
  {
   "cell_type": "markdown",
   "metadata": {},
   "source": [
    "Now, there are many ways to describe the magnitude of the difference between these distributions. An obvious one is the difference in the means:"
   ]
  },
  {
   "cell_type": "code",
   "execution_count": 37,
   "metadata": {},
   "outputs": [
    {
     "data": {
      "text/plain": [
       "14.721774470802501"
      ]
     },
     "execution_count": 37,
     "metadata": {},
     "output_type": "execute_result"
    }
   ],
   "source": [
    "diff_in_mean = mean1 - mean2\n",
    "diff_in_mean"
   ]
  },
  {
   "cell_type": "markdown",
   "metadata": {},
   "source": [
    "On average men are 14-15 cm taller.\n",
    "<br /><br />\n",
    "There are a number of ways to quantify the difference between distributions. A simple option is to express the difference as a percentage of the mean."
   ]
  },
  {
   "cell_type": "code",
   "execution_count": 39,
   "metadata": {},
   "outputs": [
    {
     "name": "stdout",
     "output_type": "stream",
     "text": [
      "[ 8.32306659  8.64838088  8.20559128  8.18593826  7.84083804  7.95338481\n",
      "  8.09477432  8.1592876   8.14632008  8.44093232  8.15226402  8.14918672\n",
      "  8.30054924  8.40058241  7.96440609  9.36579222  8.68349386  8.27824993\n",
      "  7.69180238  7.70175069  8.10352575  8.14949654  8.35100596  8.12681716\n",
      "  8.554528    8.67097433  8.43273064  8.18931894  7.97649962  8.12401497\n",
      "  7.9237351   8.03269146  8.72353419  8.50209908  7.98635284  8.61400854\n",
      "  8.29815415  8.5371647   7.54032128  8.3413308   8.20924442  8.61550852\n",
      "  8.26368808  8.07076394  8.18726135  8.25862297  8.27320579  7.83812907\n",
      "  7.92734361  7.95440833  8.07803327  8.01808658  8.11638491  9.31772623\n",
      "  8.2462667   8.24710179  8.53685963  8.40108505  9.38583876  7.88596893\n",
      "  8.27661861  7.94135157  9.17898636  8.24357882  8.14048388  8.58595964\n",
      "  8.45376265  8.59843572  8.27753681  8.08778477  7.6720349   8.14798479\n",
      "  8.29109358  8.26241698  8.30150392  8.23253297  8.05650201  7.86118461\n",
      "  8.00053932  8.2801737   7.99181252  8.48756956  8.66138115  8.00436619\n",
      "  8.23320608  8.07573942  8.70293699  8.1722955   8.83918123  8.42351665\n",
      "  8.91737807  7.85965887  8.44255723  8.65255336  8.04817654  8.49837337\n",
      "  8.46001558  8.11275843  8.03297411  8.73112672]\n",
      "[ 9.0991482   8.35492284  9.49375174  9.72878766  9.017018    8.58913629\n",
      "  9.03655751  8.74151653  9.59451065  8.85351098  8.97289333  8.5444334\n",
      "  9.13287243  9.26119303  9.09313929  9.11387443  9.02411604  9.94576481\n",
      "  9.17802049  8.80953641  8.56647392  8.9889734   9.14708506  9.46649215\n",
      "  9.58977284  8.91856186  9.01667604  9.11166593  9.01367974  9.13497486\n",
      "  9.64295191  9.22863286  9.54173065  8.90122748  9.44054377  8.72207358\n",
      "  8.94973799  8.87667815  9.11959103  7.90775528  8.75088633  8.99376556\n",
      "  9.3684972   8.68897163  8.57327672  9.00960087  9.0727266   9.29828493\n",
      "  8.88582532  9.15117302  9.18889262  8.96379385  8.60982199  8.88448874\n",
      "  8.9931866   9.19505359  9.32992883  8.84719832  9.18279432  8.87540773\n",
      "  9.73216714  9.56815749  9.24552263  9.53997873  9.15764222  8.45743074\n",
      "  8.45023194  8.90110101  9.89158738  9.3455653   8.7190822   9.17394086\n",
      "  9.12066982  8.97969278  8.28050628  8.90919038  7.95063024  9.71415987\n",
      "  9.19858545  8.6877314   8.91192214  9.45461871  8.82483593  8.79333949\n",
      "  9.08795912  8.79400087  8.61658926  9.50002879  8.73963981  8.02614903\n",
      "  8.77785345  9.54252776  9.45660929  8.43998819  9.33706793  9.24417125\n",
      "  9.07434488  8.46284934  9.08664613  8.85500118]\n"
     ]
    }
   ],
   "source": [
    "relative_diff = diff_in_mean / male_sample\n",
    "print(relative_diff * 100)\n",
    "\n",
    "# A problem with relative differences is that you have to choose \n",
    "# which mean to express them relative to.\n",
    "\n",
    "relative_diff = diff_in_mean / female_sample\n",
    "print(relative_diff * 100)"
   ]
  },
  {
   "cell_type": "code",
   "execution_count": null,
   "metadata": {
    "collapsed": true
   },
   "outputs": [],
   "source": []
  }
 ],
 "metadata": {
  "kernelspec": {
   "display_name": "Python 3",
   "language": "python",
   "name": "python3"
  },
  "language_info": {
   "codemirror_mode": {
    "name": "ipython",
    "version": 3
   },
   "file_extension": ".py",
   "mimetype": "text/x-python",
   "name": "python",
   "nbconvert_exporter": "python",
   "pygments_lexer": "ipython3",
   "version": "3.6.3"
  }
 },
 "nbformat": 4,
 "nbformat_minor": 2
}
